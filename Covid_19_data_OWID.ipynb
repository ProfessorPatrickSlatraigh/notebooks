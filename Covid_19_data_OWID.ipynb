{
  "nbformat": 4,
  "nbformat_minor": 0,
  "metadata": {
    "colab": {
      "provenance": [],
      "collapsed_sections": [],
      "authorship_tag": "ABX9TyMLZ3zW8VBe8TUkzzan+mev",
      "include_colab_link": true
    },
    "kernelspec": {
      "name": "python3",
      "display_name": "Python 3"
    },
    "language_info": {
      "name": "python"
    }
  },
  "cells": [
    {
      "cell_type": "markdown",
      "metadata": {
        "id": "view-in-github",
        "colab_type": "text"
      },
      "source": [
        "<a href=\"https://colab.research.google.com/github/ProfessorPatrickSlatraigh/notebooks/blob/main/Covid_19_data_OWID.ipynb\" target=\"_parent\"><img src=\"https://colab.research.google.com/assets/colab-badge.svg\" alt=\"Open In Colab\"/></a>"
      ]
    },
    {
      "cell_type": "markdown",
      "source": [
        "#Covid-19 Data from OWID    \n",
        "\n",
        "Read a `.csv` file `owid-covid-data.csv` from the current working directory and select/aggregate data by country."
      ],
      "metadata": {
        "id": "y1ktsy_921e1"
      }
    },
    {
      "cell_type": "code",
      "source": [
        "# import the csv library\n",
        "import csv"
      ],
      "metadata": {
        "id": "GkMlaoL1825f"
      },
      "execution_count": 3,
      "outputs": []
    },
    {
      "cell_type": "code",
      "source": [
        "\n",
        "# create a dictionary to store key:value pairs of countries and case counts\n",
        "owid_dict = dict()\n"
      ],
      "metadata": {
        "id": "DFcVJDEK7k7r"
      },
      "execution_count": 16,
      "outputs": []
    },
    {
      "cell_type": "code",
      "execution_count": null,
      "metadata": {
        "id": "L8RuMYsP2xDk"
      },
      "outputs": [],
      "source": [
        "# create a file handle to read the .csv file\n",
        "# skip the header row (the column headings)\n",
        "# then read through the file in a for loop\n",
        "\n",
        "with open('owid-covid-data.csv', mode ='r') as owid_file:\n",
        "   \n",
        "    # reading the .csv file\n",
        "    owid_csv_handle = csv.reader(owid_file)\n",
        " \n",
        "    # The next function will call the next values of the iterator\n",
        "    # which are the header values. By ignoring the, returned values\n",
        "    # we effectively skip the header row\n",
        "    next(owid_csv_handle, None)\n",
        "\n",
        "    # displaying the contents of the CSV file\n",
        "    for line in owid_csv_handle:\n",
        "        country = line[0]\n",
        "        print(line[4])\n",
        "        wait = input('paused')\n",
        "        cases = float(line[4])\n",
        "        owid_dict[country] = owid_dict.get(country, 0) + cases\n"
      ]
    },
    {
      "cell_type": "code",
      "source": [
        "for key in owid_dict:\n",
        "    print(key, owid_dict[key])"
      ],
      "metadata": {
        "id": "wx0HLJOp9OLi"
      },
      "execution_count": null,
      "outputs": []
    }
  ]
}